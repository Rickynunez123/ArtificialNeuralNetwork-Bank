{
 "cells": [
  {
   "cell_type": "markdown",
   "metadata": {
    "colab_type": "text",
    "id": "lP6JLo1tGNBg"
   },
   "source": [
    "# Artificial Neural Network"
   ]
  },
  {
   "cell_type": "markdown",
   "metadata": {
    "colab_type": "text",
    "id": "gWZyYmS_UE_L"
   },
   "source": [
    "### Importing the libraries"
   ]
  },
  {
   "cell_type": "code",
   "execution_count": 155,
   "metadata": {},
   "outputs": [],
   "source": [
    "import numpy as np \n",
    "import pandas as pd \n",
    "import tensorflow as tf\n",
    "\n"
   ]
  },
  {
   "cell_type": "code",
   "execution_count": 156,
   "metadata": {},
   "outputs": [
    {
     "data": {
      "text/plain": [
       "'2.10.0'"
      ]
     },
     "execution_count": 156,
     "metadata": {},
     "output_type": "execute_result"
    }
   ],
   "source": [
    "tf.__version__"
   ]
  },
  {
   "cell_type": "markdown",
   "metadata": {
    "colab_type": "text",
    "id": "1E0Q3aoKUCRX"
   },
   "source": [
    "## Part 1 - Data Preprocessing"
   ]
  },
  {
   "cell_type": "markdown",
   "metadata": {
    "colab_type": "text",
    "id": "cKWAkFVGUU0Z"
   },
   "source": [
    "### Importing the dataset"
   ]
  },
  {
   "cell_type": "code",
   "execution_count": 157,
   "metadata": {},
   "outputs": [],
   "source": [
    "# Data preprocessing is about 70% of the work of a data scientist \n",
    "dataset = pd.read_csv('Churn_Modelling.csv')\n",
    "# [rows, columns]\n",
    "X = dataset.iloc[:, 3:-1].values\n",
    "y = dataset.iloc[:, -1].values"
   ]
  },
  {
   "cell_type": "code",
   "execution_count": 158,
   "metadata": {},
   "outputs": [
    {
     "name": "stdout",
     "output_type": "stream",
     "text": [
      "[[619 'France' 'Female' ... 1 1 101348.88]\n",
      " [608 'Spain' 'Female' ... 0 1 112542.58]\n",
      " [502 'France' 'Female' ... 1 0 113931.57]\n",
      " ...\n",
      " [709 'France' 'Female' ... 0 1 42085.58]\n",
      " [772 'Germany' 'Male' ... 1 0 92888.52]\n",
      " [792 'France' 'Female' ... 1 0 38190.78]]\n"
     ]
    }
   ],
   "source": [
    "print(X)"
   ]
  },
  {
   "cell_type": "code",
   "execution_count": 159,
   "metadata": {},
   "outputs": [
    {
     "name": "stdout",
     "output_type": "stream",
     "text": [
      "[1 0 1 ... 1 1 0]\n"
     ]
    }
   ],
   "source": [
    "# 1 left the bank 1, stayed 0\n",
    "print(y)"
   ]
  },
  {
   "cell_type": "markdown",
   "metadata": {
    "colab_type": "text",
    "id": "N6bQ0UgSU-NJ"
   },
   "source": [
    "### Encoding categorical data"
   ]
  },
  {
   "cell_type": "markdown",
   "metadata": {
    "colab_type": "text",
    "id": "le5MJreAbW52"
   },
   "source": [
    "Label Encoding the \"Gender\" column"
   ]
  },
  {
   "cell_type": "code",
   "execution_count": 160,
   "metadata": {},
   "outputs": [],
   "source": [
    "from sklearn.preprocessing import LabelEncoder \n",
    "le = LabelEncoder()\n",
    "# Female column will be incoded into 0 and Male 1 \n",
    "X[:, 2] = le.fit_transform(X[:, 2])"
   ]
  },
  {
   "cell_type": "code",
   "execution_count": 161,
   "metadata": {},
   "outputs": [
    {
     "name": "stdout",
     "output_type": "stream",
     "text": [
      "[[619 'France' 0 ... 1 1 101348.88]\n",
      " [608 'Spain' 0 ... 0 1 112542.58]\n",
      " [502 'France' 0 ... 1 0 113931.57]\n",
      " ...\n",
      " [709 'France' 0 ... 0 1 42085.58]\n",
      " [772 'Germany' 1 ... 1 0 92888.52]\n",
      " [792 'France' 0 ... 1 0 38190.78]]\n"
     ]
    }
   ],
   "source": [
    "print(X)"
   ]
  },
  {
   "cell_type": "markdown",
   "metadata": {
    "colab_type": "text",
    "id": "CUxGZezpbMcb"
   },
   "source": [
    "One Hot Encoding the \"Geography\" column"
   ]
  },
  {
   "cell_type": "code",
   "execution_count": 162,
   "metadata": {},
   "outputs": [],
   "source": [
    "from sklearn.compose import ColumnTransformer\n",
    "from sklearn.preprocessing import OneHotEncoder\n",
    "# It will create a matrix with France, Spain, Germany\n",
    "# France  1.0 0.0 0.0\n",
    "# Spain   0.0 0.0 1.0\n",
    "# Germany 0.0 1.0 0.0\n",
    "ct = ColumnTransformer(transformers = [( 'encoder', OneHotEncoder(), [1])], remainder = 'passthrough')\n",
    "X = np.array(ct.fit_transform(X))"
   ]
  },
  {
   "cell_type": "code",
   "execution_count": 163,
   "metadata": {},
   "outputs": [
    {
     "name": "stdout",
     "output_type": "stream",
     "text": [
      "[[1.0 0.0 0.0 ... 1 1 101348.88]\n",
      " [0.0 0.0 1.0 ... 0 1 112542.58]\n",
      " [1.0 0.0 0.0 ... 1 0 113931.57]\n",
      " ...\n",
      " [1.0 0.0 0.0 ... 0 1 42085.58]\n",
      " [0.0 1.0 0.0 ... 1 0 92888.52]\n",
      " [1.0 0.0 0.0 ... 1 0 38190.78]]\n"
     ]
    }
   ],
   "source": [
    "print(X)"
   ]
  },
  {
   "cell_type": "markdown",
   "metadata": {
    "colab_type": "text",
    "id": "vHol938cW8zd"
   },
   "source": [
    "### Splitting the dataset into the Training set and Test set"
   ]
  },
  {
   "cell_type": "code",
   "execution_count": 164,
   "metadata": {},
   "outputs": [],
   "source": [
    "from sklearn.model_selection import train_test_split\n",
    "# splits the dataset into training and testing sets, with 80% of the data used for training and 20% used for testing.\n",
    "X_train, X_test, y_train, y_test = train_test_split(X, y, test_size = 0.2, random_state = 0)"
   ]
  },
  {
   "cell_type": "code",
   "execution_count": 165,
   "metadata": {},
   "outputs": [
    {
     "name": "stdout",
     "output_type": "stream",
     "text": [
      "[[0.0 1.0 0.0 ... 1 1 192852.67]\n",
      " [1.0 0.0 0.0 ... 1 0 128702.1]\n",
      " [0.0 0.0 1.0 ... 1 1 75732.25]\n",
      " ...\n",
      " [0.0 0.0 1.0 ... 1 0 141533.19]\n",
      " [0.0 1.0 0.0 ... 1 1 11276.48]\n",
      " [0.0 1.0 0.0 ... 1 0 192950.6]]\n"
     ]
    }
   ],
   "source": [
    "print(X_test)"
   ]
  },
  {
   "cell_type": "markdown",
   "metadata": {
    "colab_type": "text",
    "id": "RE_FcHyfV3TQ"
   },
   "source": [
    "### Feature Scaling"
   ]
  },
  {
   "cell_type": "code",
   "execution_count": 166,
   "metadata": {},
   "outputs": [],
   "source": [
    "from sklearn.preprocessing import StandardScaler\n",
    "sc = StandardScaler()\n",
    "# It is only fitted to the training to avoid information leaked \n",
    "# to normalize the features in order to ensure that they are on a similar scale, which can help improve the\n",
    "# performance and convergence of machine learning algorithms\n",
    "X_train = sc.fit_transform(X_train)\n",
    "X_test = sc.transform(X_test)"
   ]
  },
  {
   "cell_type": "markdown",
   "metadata": {
    "colab_type": "text",
    "id": "-zfEzkRVXIwF"
   },
   "source": [
    "## Part 2 - Building the ANN"
   ]
  },
  {
   "cell_type": "markdown",
   "metadata": {
    "colab_type": "text",
    "id": "KvdeScabXtlB"
   },
   "source": [
    "### Initializing the ANN"
   ]
  },
  {
   "cell_type": "code",
   "execution_count": 167,
   "metadata": {},
   "outputs": [],
   "source": [
    "# Create a variable that will be a NN which will be an object of acertain class artificial neural network \n",
    "# Initializing the nn as a sequence of layers \n",
    "ann = tf.keras.models.Sequential()"
   ]
  },
  {
   "cell_type": "markdown",
   "metadata": {
    "colab_type": "text",
    "id": "rP6urV6SX7kS"
   },
   "source": [
    "### Adding the input layer and the first hidden layer"
   ]
  },
  {
   "cell_type": "code",
   "execution_count": 168,
   "metadata": {},
   "outputs": [],
   "source": [
    "# Add a fully connected layer into an ANN at whatever phase\n",
    "# rectifier activation = relu\n",
    "ann.add(tf.keras.layers.Dense(units = 6, activation = 'relu',))"
   ]
  },
  {
   "cell_type": "markdown",
   "metadata": {
    "colab_type": "text",
    "id": "BELWAc_8YJze"
   },
   "source": [
    "### Adding the second hidden layer"
   ]
  },
  {
   "cell_type": "code",
   "execution_count": 169,
   "metadata": {},
   "outputs": [],
   "source": [
    "# It will have 6 hidden neurons - second hidden layer \n",
    "ann.add(tf.keras.layers.Dense(units = 6, activation = 'relu'))"
   ]
  },
  {
   "cell_type": "markdown",
   "metadata": {
    "colab_type": "text",
    "id": "OyNEe6RXYcU4"
   },
   "source": [
    "### Adding the output layer"
   ]
  },
  {
   "cell_type": "code",
   "execution_count": 170,
   "metadata": {},
   "outputs": [],
   "source": [
    "# The add method can add any layer, the dense class is the thing that keeps the connectino between layers\n",
    "# Since our output is 0-1 then we only need one neuron to predict that output \n",
    "# Sigmoid activation function \n",
    "# when your output is not binary use softmax instead of sigmoid\n",
    "ann.add(tf.keras.layers.Dense(units = 1, activation = 'sigmoid'))\n"
   ]
  },
  {
   "cell_type": "markdown",
   "metadata": {
    "colab_type": "text",
    "id": "JT4u2S1_Y4WG"
   },
   "source": [
    "## Part 3 - Training the ANN"
   ]
  },
  {
   "cell_type": "markdown",
   "metadata": {
    "colab_type": "text",
    "id": "8GWlJChhY_ZI"
   },
   "source": [
    "### Compiling the ANN"
   ]
  },
  {
   "cell_type": "code",
   "execution_count": 171,
   "metadata": {},
   "outputs": [],
   "source": [
    "# When not binary category_crossentropy\n",
    "ann.compile(optimizer = 'adam', loss = 'binary_crossentropy', metrics = ['accuracy'])"
   ]
  },
  {
   "cell_type": "markdown",
   "metadata": {
    "colab_type": "text",
    "id": "0QR_G5u7ZLSM"
   },
   "source": [
    "### Training the ANN on the Training set"
   ]
  },
  {
   "cell_type": "code",
   "execution_count": 172,
   "metadata": {},
   "outputs": [
    {
     "name": "stdout",
     "output_type": "stream",
     "text": [
      "Epoch 1/100\n",
      "250/250 [==============================] - 0s 420us/step - loss: 0.6831 - accuracy: 0.6406\n",
      "Epoch 2/100\n",
      "250/250 [==============================] - 0s 435us/step - loss: 0.5156 - accuracy: 0.7951\n",
      "Epoch 3/100\n",
      "250/250 [==============================] - 0s 510us/step - loss: 0.4834 - accuracy: 0.7961\n",
      "Epoch 4/100\n",
      "250/250 [==============================] - 0s 442us/step - loss: 0.4595 - accuracy: 0.7996\n",
      "Epoch 5/100\n",
      "250/250 [==============================] - 0s 466us/step - loss: 0.4371 - accuracy: 0.8092\n",
      "Epoch 6/100\n",
      "250/250 [==============================] - 0s 504us/step - loss: 0.4207 - accuracy: 0.8174\n",
      "Epoch 7/100\n",
      "250/250 [==============================] - 0s 486us/step - loss: 0.4085 - accuracy: 0.8207\n",
      "Epoch 8/100\n",
      "250/250 [==============================] - 0s 463us/step - loss: 0.3968 - accuracy: 0.8307\n",
      "Epoch 9/100\n",
      "250/250 [==============================] - 0s 490us/step - loss: 0.3859 - accuracy: 0.8359\n",
      "Epoch 10/100\n",
      "250/250 [==============================] - 0s 447us/step - loss: 0.3767 - accuracy: 0.8432\n",
      "Epoch 11/100\n",
      "250/250 [==============================] - 0s 450us/step - loss: 0.3697 - accuracy: 0.8470\n",
      "Epoch 12/100\n",
      "250/250 [==============================] - 0s 445us/step - loss: 0.3648 - accuracy: 0.8495\n",
      "Epoch 13/100\n",
      "250/250 [==============================] - 0s 399us/step - loss: 0.3605 - accuracy: 0.8508\n",
      "Epoch 14/100\n",
      "250/250 [==============================] - 0s 429us/step - loss: 0.3582 - accuracy: 0.8501\n",
      "Epoch 15/100\n",
      "250/250 [==============================] - 0s 524us/step - loss: 0.3561 - accuracy: 0.8516\n",
      "Epoch 16/100\n",
      "250/250 [==============================] - 0s 424us/step - loss: 0.3549 - accuracy: 0.8505\n",
      "Epoch 17/100\n",
      "250/250 [==============================] - 0s 429us/step - loss: 0.3536 - accuracy: 0.8522\n",
      "Epoch 18/100\n",
      "250/250 [==============================] - 0s 424us/step - loss: 0.3522 - accuracy: 0.8526\n",
      "Epoch 19/100\n",
      "250/250 [==============================] - 0s 433us/step - loss: 0.3508 - accuracy: 0.8539\n",
      "Epoch 20/100\n",
      "250/250 [==============================] - 0s 421us/step - loss: 0.3499 - accuracy: 0.8553\n",
      "Epoch 21/100\n",
      "250/250 [==============================] - 0s 415us/step - loss: 0.3491 - accuracy: 0.8543\n",
      "Epoch 22/100\n",
      "250/250 [==============================] - 0s 441us/step - loss: 0.3489 - accuracy: 0.8545\n",
      "Epoch 23/100\n",
      "250/250 [==============================] - 0s 444us/step - loss: 0.3477 - accuracy: 0.8553\n",
      "Epoch 24/100\n",
      "250/250 [==============================] - 0s 451us/step - loss: 0.3474 - accuracy: 0.8560\n",
      "Epoch 25/100\n",
      "250/250 [==============================] - 0s 448us/step - loss: 0.3465 - accuracy: 0.8584\n",
      "Epoch 26/100\n",
      "250/250 [==============================] - 0s 438us/step - loss: 0.3463 - accuracy: 0.8569\n",
      "Epoch 27/100\n",
      "250/250 [==============================] - 0s 424us/step - loss: 0.3455 - accuracy: 0.8577\n",
      "Epoch 28/100\n",
      "250/250 [==============================] - 0s 478us/step - loss: 0.3455 - accuracy: 0.8583\n",
      "Epoch 29/100\n",
      "250/250 [==============================] - 0s 580us/step - loss: 0.3447 - accuracy: 0.8568\n",
      "Epoch 30/100\n",
      "250/250 [==============================] - 0s 447us/step - loss: 0.3450 - accuracy: 0.8574\n",
      "Epoch 31/100\n",
      "250/250 [==============================] - 0s 476us/step - loss: 0.3448 - accuracy: 0.8583\n",
      "Epoch 32/100\n",
      "250/250 [==============================] - 0s 479us/step - loss: 0.3438 - accuracy: 0.8586\n",
      "Epoch 33/100\n",
      "250/250 [==============================] - 0s 511us/step - loss: 0.3441 - accuracy: 0.8572\n",
      "Epoch 34/100\n",
      "250/250 [==============================] - 0s 472us/step - loss: 0.3439 - accuracy: 0.8587\n",
      "Epoch 35/100\n",
      "250/250 [==============================] - 0s 492us/step - loss: 0.3437 - accuracy: 0.8591\n",
      "Epoch 36/100\n",
      "250/250 [==============================] - 0s 531us/step - loss: 0.3435 - accuracy: 0.8574\n",
      "Epoch 37/100\n",
      "250/250 [==============================] - 0s 476us/step - loss: 0.3430 - accuracy: 0.8599\n",
      "Epoch 38/100\n",
      "250/250 [==============================] - 0s 451us/step - loss: 0.3430 - accuracy: 0.8590\n",
      "Epoch 39/100\n",
      "250/250 [==============================] - 0s 457us/step - loss: 0.3429 - accuracy: 0.8591\n",
      "Epoch 40/100\n",
      "250/250 [==============================] - 0s 440us/step - loss: 0.3427 - accuracy: 0.8584\n",
      "Epoch 41/100\n",
      "250/250 [==============================] - 0s 436us/step - loss: 0.3422 - accuracy: 0.8616\n",
      "Epoch 42/100\n",
      "250/250 [==============================] - 0s 461us/step - loss: 0.3419 - accuracy: 0.8615\n",
      "Epoch 43/100\n",
      "250/250 [==============================] - 0s 535us/step - loss: 0.3424 - accuracy: 0.8583\n",
      "Epoch 44/100\n",
      "250/250 [==============================] - 0s 520us/step - loss: 0.3417 - accuracy: 0.8610\n",
      "Epoch 45/100\n",
      "250/250 [==============================] - 0s 481us/step - loss: 0.3418 - accuracy: 0.8600\n",
      "Epoch 46/100\n",
      "250/250 [==============================] - 0s 468us/step - loss: 0.3416 - accuracy: 0.8609\n",
      "Epoch 47/100\n",
      "250/250 [==============================] - 0s 543us/step - loss: 0.3415 - accuracy: 0.8597\n",
      "Epoch 48/100\n",
      "250/250 [==============================] - 0s 448us/step - loss: 0.3406 - accuracy: 0.8608\n",
      "Epoch 49/100\n",
      "250/250 [==============================] - 0s 489us/step - loss: 0.3409 - accuracy: 0.8597\n",
      "Epoch 50/100\n",
      "250/250 [==============================] - 0s 582us/step - loss: 0.3403 - accuracy: 0.8602\n",
      "Epoch 51/100\n",
      "250/250 [==============================] - 0s 519us/step - loss: 0.3402 - accuracy: 0.8599\n",
      "Epoch 52/100\n",
      "250/250 [==============================] - 0s 481us/step - loss: 0.3403 - accuracy: 0.8594\n",
      "Epoch 53/100\n",
      "250/250 [==============================] - 0s 496us/step - loss: 0.3398 - accuracy: 0.8604\n",
      "Epoch 54/100\n",
      "250/250 [==============================] - 0s 464us/step - loss: 0.3398 - accuracy: 0.8604\n",
      "Epoch 55/100\n",
      "250/250 [==============================] - 0s 445us/step - loss: 0.3399 - accuracy: 0.8599\n",
      "Epoch 56/100\n",
      "250/250 [==============================] - 0s 446us/step - loss: 0.3399 - accuracy: 0.8596\n",
      "Epoch 57/100\n",
      "250/250 [==============================] - 0s 454us/step - loss: 0.3395 - accuracy: 0.8605\n",
      "Epoch 58/100\n",
      "250/250 [==============================] - 0s 473us/step - loss: 0.3394 - accuracy: 0.8606\n",
      "Epoch 59/100\n",
      "250/250 [==============================] - 0s 483us/step - loss: 0.3398 - accuracy: 0.8608\n",
      "Epoch 60/100\n",
      "250/250 [==============================] - 0s 524us/step - loss: 0.3390 - accuracy: 0.8621\n",
      "Epoch 61/100\n",
      "250/250 [==============================] - 0s 481us/step - loss: 0.3388 - accuracy: 0.8594\n",
      "Epoch 62/100\n",
      "250/250 [==============================] - 0s 436us/step - loss: 0.3390 - accuracy: 0.8622\n",
      "Epoch 63/100\n",
      "250/250 [==============================] - 0s 423us/step - loss: 0.3393 - accuracy: 0.8601\n",
      "Epoch 64/100\n",
      "250/250 [==============================] - 0s 428us/step - loss: 0.3386 - accuracy: 0.8614\n",
      "Epoch 65/100\n",
      "250/250 [==============================] - 0s 447us/step - loss: 0.3389 - accuracy: 0.8612\n",
      "Epoch 66/100\n",
      "250/250 [==============================] - 0s 517us/step - loss: 0.3387 - accuracy: 0.8606\n",
      "Epoch 67/100\n",
      "250/250 [==============================] - 0s 428us/step - loss: 0.3383 - accuracy: 0.8621\n",
      "Epoch 68/100\n",
      "250/250 [==============================] - 0s 458us/step - loss: 0.3379 - accuracy: 0.8606\n",
      "Epoch 69/100\n",
      "250/250 [==============================] - 0s 490us/step - loss: 0.3378 - accuracy: 0.8637\n",
      "Epoch 70/100\n",
      "250/250 [==============================] - 0s 500us/step - loss: 0.3383 - accuracy: 0.8609\n",
      "Epoch 71/100\n",
      "250/250 [==============================] - 0s 469us/step - loss: 0.3375 - accuracy: 0.8620\n",
      "Epoch 72/100\n",
      "250/250 [==============================] - 0s 464us/step - loss: 0.3380 - accuracy: 0.8629\n",
      "Epoch 73/100\n",
      "250/250 [==============================] - 0s 428us/step - loss: 0.3367 - accuracy: 0.8620\n",
      "Epoch 74/100\n",
      "250/250 [==============================] - 0s 419us/step - loss: 0.3367 - accuracy: 0.8611\n",
      "Epoch 75/100\n",
      "250/250 [==============================] - 0s 438us/step - loss: 0.3371 - accuracy: 0.8615\n",
      "Epoch 76/100\n",
      "250/250 [==============================] - 0s 572us/step - loss: 0.3366 - accuracy: 0.8621\n",
      "Epoch 77/100\n",
      "250/250 [==============================] - 0s 500us/step - loss: 0.3366 - accuracy: 0.8639\n",
      "Epoch 78/100\n",
      "250/250 [==============================] - 0s 467us/step - loss: 0.3369 - accuracy: 0.8627\n",
      "Epoch 79/100\n"
     ]
    },
    {
     "name": "stdout",
     "output_type": "stream",
     "text": [
      "250/250 [==============================] - 0s 441us/step - loss: 0.3368 - accuracy: 0.8619\n",
      "Epoch 80/100\n",
      "250/250 [==============================] - 0s 423us/step - loss: 0.3365 - accuracy: 0.8610\n",
      "Epoch 81/100\n",
      "250/250 [==============================] - 0s 544us/step - loss: 0.3362 - accuracy: 0.8634\n",
      "Epoch 82/100\n",
      "250/250 [==============================] - 0s 552us/step - loss: 0.3367 - accuracy: 0.8627\n",
      "Epoch 83/100\n",
      "250/250 [==============================] - 0s 440us/step - loss: 0.3362 - accuracy: 0.8624\n",
      "Epoch 84/100\n",
      "250/250 [==============================] - 0s 475us/step - loss: 0.3363 - accuracy: 0.8659\n",
      "Epoch 85/100\n",
      "250/250 [==============================] - 0s 484us/step - loss: 0.3356 - accuracy: 0.8631\n",
      "Epoch 86/100\n",
      "250/250 [==============================] - 0s 489us/step - loss: 0.3356 - accuracy: 0.8626\n",
      "Epoch 87/100\n",
      "250/250 [==============================] - 0s 434us/step - loss: 0.3354 - accuracy: 0.8635\n",
      "Epoch 88/100\n",
      "250/250 [==============================] - 0s 441us/step - loss: 0.3358 - accuracy: 0.8635\n",
      "Epoch 89/100\n",
      "250/250 [==============================] - 0s 519us/step - loss: 0.3357 - accuracy: 0.8633\n",
      "Epoch 90/100\n",
      "250/250 [==============================] - 0s 479us/step - loss: 0.3354 - accuracy: 0.8636\n",
      "Epoch 91/100\n",
      "250/250 [==============================] - 0s 425us/step - loss: 0.3357 - accuracy: 0.8630\n",
      "Epoch 92/100\n",
      "250/250 [==============================] - 0s 494us/step - loss: 0.3351 - accuracy: 0.8641\n",
      "Epoch 93/100\n",
      "250/250 [==============================] - 0s 500us/step - loss: 0.3351 - accuracy: 0.8629\n",
      "Epoch 94/100\n",
      "250/250 [==============================] - 0s 499us/step - loss: 0.3351 - accuracy: 0.8641\n",
      "Epoch 95/100\n",
      "250/250 [==============================] - 0s 462us/step - loss: 0.3354 - accuracy: 0.8631\n",
      "Epoch 96/100\n",
      "250/250 [==============================] - 0s 416us/step - loss: 0.3352 - accuracy: 0.8633\n",
      "Epoch 97/100\n",
      "250/250 [==============================] - 0s 476us/step - loss: 0.3344 - accuracy: 0.8641\n",
      "Epoch 98/100\n",
      "250/250 [==============================] - 0s 457us/step - loss: 0.3353 - accuracy: 0.8645\n",
      "Epoch 99/100\n",
      "250/250 [==============================] - 0s 457us/step - loss: 0.3350 - accuracy: 0.8639\n",
      "Epoch 100/100\n",
      "250/250 [==============================] - 0s 532us/step - loss: 0.3345 - accuracy: 0.8639\n"
     ]
    },
    {
     "data": {
      "text/plain": [
       "<keras.callbacks.History at 0x294978df0>"
      ]
     },
     "execution_count": 172,
     "metadata": {},
     "output_type": "execute_result"
    }
   ],
   "source": [
    "# fit method will train your ann\n",
    "ann.fit(X_train, y_train, batch_size = 32, epochs = 100)"
   ]
  },
  {
   "cell_type": "markdown",
   "metadata": {
    "colab_type": "text",
    "id": "tJj5k2MxZga3"
   },
   "source": [
    "## Part 4 - Making the predictions and evaluating the model"
   ]
  },
  {
   "cell_type": "markdown",
   "metadata": {
    "colab_type": "text",
    "id": "84QFoqGYeXHL"
   },
   "source": [
    "### Predicting the result of a single observation"
   ]
  },
  {
   "cell_type": "markdown",
   "metadata": {
    "colab_type": "text",
    "id": "CGRo3eacgDdC"
   },
   "source": [
    "**Homework**\n",
    "\n",
    "Use our ANN model to predict if the customer with the following informations will leave the bank: \n",
    "\n",
    "Geography: France\n",
    "\n",
    "Credit Score: 600\n",
    "\n",
    "Gender: Male\n",
    "\n",
    "Age: 40 years old\n",
    "\n",
    "Tenure: 3 years\n",
    "\n",
    "Balance: \\$ 60000\n",
    "\n",
    "Number of Products: 2\n",
    "\n",
    "Does this customer have a credit card? Yes\n",
    "\n",
    "Is this customer an Active Member: Yes\n",
    "\n",
    "Estimated Salary: \\$ 50000\n",
    "\n",
    "So, should we say goodbye to that customer?"
   ]
  },
  {
   "cell_type": "markdown",
   "metadata": {
    "colab_type": "text",
    "id": "ZhU1LTgPg-kH"
   },
   "source": [
    "**Solution**"
   ]
  },
  {
   "cell_type": "code",
   "execution_count": 174,
   "metadata": {},
   "outputs": [
    {
     "name": "stdout",
     "output_type": "stream",
     "text": [
      "1/1 [==============================] - 0s 10ms/step\n",
      "[[0.03613352]]\n"
     ]
    }
   ],
   "source": [
    "# Chances of leaving the bank? \n",
    "# Remember to scale your data \n",
    "# prediction1 = sc.transform([[1.0, 0.0, 0.0, 600, 1, 40, 3, 60000, 2, 1, 1, 50000]])\n",
    "# print(prediction)\n",
    "# prediction = ann.predict(X_train[[1], :])\n",
    "# print(X_test[[1],:])s\n",
    "# if you stop working, just re-run all the code, and now everything makes sense\n",
    "print(ann.predict(sc.transform([[1, 0, 0, 600, 1, 40, 3, 60000, 2, 1, 1, 50000]])))\n"
   ]
  },
  {
   "cell_type": "markdown",
   "metadata": {
    "colab_type": "text",
    "id": "wGjx94g2n7OV"
   },
   "source": [
    "Therefore, our ANN model predicts that this customer stays in the bank!\n",
    "\n",
    "**Important note 1:** Notice that the values of the features were all input in a double pair of square brackets. That's because the \"predict\" method always expects a 2D array as the format of its inputs. And putting our values into a double pair of square brackets makes the input exactly a 2D array.\n",
    "\n",
    "**Important note 2:** Notice also that the \"France\" country was not input as a string in the last column but as \"1, 0, 0\" in the first three columns. That's because of course the predict method expects the one-hot-encoded values of the state, and as we see in the first row of the matrix of features X, \"France\" was encoded as \"1, 0, 0\". And be careful to include these values in the first three columns, because the dummy variables are always created in the first columns."
   ]
  },
  {
   "cell_type": "markdown",
   "metadata": {
    "colab_type": "text",
    "id": "u7yx47jPZt11"
   },
   "source": [
    "### Predicting the Test set results"
   ]
  },
  {
   "cell_type": "code",
   "execution_count": 175,
   "metadata": {},
   "outputs": [
    {
     "name": "stdout",
     "output_type": "stream",
     "text": [
      "63/63 [==============================] - 0s 366us/step\n",
      "[[0 0]\n",
      " [0 1]\n",
      " [0 0]\n",
      " ...\n",
      " [0 0]\n",
      " [0 0]\n",
      " [0 0]]\n"
     ]
    }
   ],
   "source": [
    "y_pred = ann.predict(X_test)\n",
    "# true = will leave the bank  = 1 else 0\n",
    "y_pred = (y_pred > 0.5)\n",
    "print(np.concatenate((y_pred.reshape(len(y_pred), 1), y_test.reshape(len(y_test), 1)), 1))\n",
    "# So what this is saying is that we predict that [prediction, actual result]\n",
    "# 1. we predicted that he stayed in the bank, and he actually stayed the bank\n",
    "# 2. we predicted that he stayed, but he actually left "
   ]
  },
  {
   "cell_type": "markdown",
   "metadata": {
    "colab_type": "text",
    "id": "o0oyfLWoaEGw"
   },
   "source": [
    "### Making the Confusion Matrix"
   ]
  },
  {
   "cell_type": "code",
   "execution_count": 176,
   "metadata": {},
   "outputs": [
    {
     "name": "stdout",
     "output_type": "stream",
     "text": [
      "[[1510   85]\n",
      " [ 194  211]]\n"
     ]
    },
    {
     "data": {
      "text/plain": [
       "0.8605"
      ]
     },
     "execution_count": 176,
     "metadata": {},
     "output_type": "execute_result"
    }
   ],
   "source": [
    "from sklearn.metrics import confusion_matrix, accuracy_score\n",
    "cm = confusion_matrix(y_test, y_pred)\n",
    "print(cm)\n",
    "accuracy_score(y_test, y_pred)\n",
    "# The value output will be our accuracy\n",
    "# we have 1510 correct predictions\n",
    "# then we have 211 predictions that the customer leaves the bank\n",
    "# 85 incorrect predictions that the customer leaves the bank\n",
    "# 194 incorrect predictions that the customer stayed "
   ]
  },
  {
   "cell_type": "code",
   "execution_count": null,
   "metadata": {},
   "outputs": [],
   "source": []
  }
 ],
 "metadata": {
  "colab": {
   "authorship_tag": "ABX9TyMeRFWFoGrdaL5S3dx5MWmb",
   "collapsed_sections": [],
   "name": "artificial_neural_network.ipynb",
   "provenance": [],
   "toc_visible": true
  },
  "kernelspec": {
   "display_name": "Python 3 (ipykernel)",
   "language": "python",
   "name": "python3"
  },
  "language_info": {
   "codemirror_mode": {
    "name": "ipython",
    "version": 3
   },
   "file_extension": ".py",
   "mimetype": "text/x-python",
   "name": "python",
   "nbconvert_exporter": "python",
   "pygments_lexer": "ipython3",
   "version": "3.10.9"
  }
 },
 "nbformat": 4,
 "nbformat_minor": 1
}
